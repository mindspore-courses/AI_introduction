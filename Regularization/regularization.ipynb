{
 "cells": [
  {
   "cell_type": "markdown",
   "metadata": {},
   "source": [
    "# FashionMnist分类任务正则化对比实验\n",
    "\n",
    "## 一、实验目的\n",
    "\n",
    "本实验基于MindSpore框架搭建的卷积神经网络，实现基于Fshion-Mnist数据集的分类识别任务，并对比有无正则化处理对训练结果的影响。\n"
   ]
  },
  {
   "cell_type": "markdown",
   "metadata": {},
   "source": [
    "## 二、正则化原理介绍\n",
    "\n",
    "正则化是机器学习中一种常用的技术，广泛应用于不同的机器学习算法，如线性回归、逻辑回归、支持向量机等。正则化通过在模型的损失函数中增加一个正则项，惩罚模型的复杂度，从而抑制模型对训练数据的过度拟合，提高模型的泛化能力。常见的正则化技术有L1正则化（Lasso正则化）、L2正则化（Ridge正则化）和Elastic Net正则化。\n",
    "\n",
    "正则化的目标是最小化以下形式的带正则项的损失函数：\n",
    "\n",
    "    L_reg = L + λ * R(w)\n",
    "\n",
    "其中，L是原始的损失函数，R(w)是正则化项，w表示模型的参数，λ是正则化参数（用于控制正则化的强度）。\n",
    "\n",
    "常见的正则化项包括L1正则化和L2正则化：\n",
    "\n",
    "- L1正则化（Lasso正则化）：\n",
    "  \n",
    "    R(w) = ||w||₁ = Σ|w_i|\n",
    "\n",
    "    其中，||w||₁表示参数w的L1范数（绝对值之和），w_i表示参数w的第i个分量。\n",
    "\n",
    "- L2正则化（Ridge正则化）：\n",
    "  \n",
    "    R(w) = ||w||₂² = Σ(w_i)²\n",
    "\n",
    "    其中，||w||₂表示参数w的L2范数（平方和），w_i表示参数w的第i个分量。\n",
    "\n",
    "通过调节正则化参数λ，我们可以控制正则化项在整个损失函数中的影响程度。较大的λ会增加正则化的影响，降低模型的复杂度；较小的λ会减少正则化的影响，模型更容易过拟合。\n",
    "\n",
    "通过在损失函数中引入正则项，正则化技术可以限制模型参数的取值范围或降低模型的复杂度，从而改善模型的泛化能力，减少过拟合的风险。\n",
    "\n",
    "以上。通过适当选择正则化技术和调节正则化参数，可以有效地控制模型的复杂度，提高模型的泛化性能，避免过拟合问题。"
   ]
  },
  {
   "cell_type": "markdown",
   "metadata": {},
   "source": [
    "## 三、实验环境\n",
    "\n",
    "实验开发环境描述：\n",
    "\n",
    "- 编程语言和框架：使用Python（3.7）编程语言和MindSpore（2.0）框架进行实验开发和深度学习模型训练。\n",
    "\n",
    "- 开发工具和环境：使用VS-code作为主要的集成开发环境（IDE），在Windows或Linux操作系统上进行开发。\n",
    "\n",
    "- 硬件和资源要求：实验要求使用具备GPU加速或MindSpore支持的Ascend芯片进行训练和推理计算。可以在本地机器或云计算平台上进行实验。\n",
    "\n",
    "- 其他依赖项：NumPy、Matplotlib、easydict、struct\n",
    "\n",
    "- 实验数据集：Fashion-mnist公开数据集。"
   ]
  },
  {
   "cell_type": "markdown",
   "metadata": {},
   "source": [
    "## 四、数据处理\n",
    "\n",
    "### Fashion-Mnist数据集介绍\n",
    "\n",
    "Fashion-MNIST是一个广泛使用的图像分类数据集，旨在替代经典的MNIST手写数字数据集。Fashion-MNIST由Zalando Research创建，包含了一系列服装商品的灰度图像。\n",
    "\n",
    "以下是Fashion-MNIST数据集的一些关键特点：\n",
    "\n",
    "- 图像内容：\n",
    "    Fashion-MNIST数据集包含10个类别的服装商品图像。这些类别分别是：T恤/上衣、裤子、套衫、连衣裙、外套、凉鞋、衬衫、运动鞋、手提包和踝靴。每个类别包含6000个训练样本和1000个测试样本。以下表格列举了fashion-mnist数据集的十个类别标签：\n",
    "\n",
    "    | 标签 | 描述           |\n",
    "    |------|----------------|\n",
    "    | 0    | T-shirt/top    |\n",
    "    | 1    | Trouser        |\n",
    "    | 2    | Pullover       |\n",
    "    | 3    | Dress          |\n",
    "    | 4    | Coat           |\n",
    "    | 5    | Sandal         |\n",
    "    | 6    | Shirt          |\n",
    "    | 7    | Sneaker        |\n",
    "    | 8    | Bag            |\n",
    "    | 9    | Ankle boot     |\n",
    "\n",
    "- 图像属性：\n",
    "    每张图像的尺寸为28x28像素，灰度图像（单通道），像素值范围为0到255之间。\n",
    "\n",
    "- 数据集规模：\n",
    "    Fashion-MNIST数据集共有70000个图像样本，其中60000个用于训练，10000个用于测试。这使得该数据集可以用于训练机器学习模型和评估模型性能。\n",
    "\n",
    "- 挑战性：\n",
    "    相较于经典的MNIST数据集，Fashion-MNIST在图像复杂度和难度上有所提升。图像内容更加多样化和具有挑战性，更贴近实际应用场景。因此，Fashion-MNIST数据集被广泛用于验证算法的鲁棒性和泛化能力。\n",
    "\n",
    "Fashion-MNIST数据集的可用性和易用性使其成为学术界和工业界中广泛应用的基准数据集之一。它可用于训练和评估图像分类算法，例如卷积神经网络（CNN）和其他机器学习模型，以解决服装商品分类、图像识别和相关问题。\n",
    "\n",
    "### 数据集下载\n",
    "\n",
    "以下代码实现了Fashion-Mnist数据集的下载。请确保下载后的数据集目录结构如下：\n",
    "\n",
    "- fashion-mnist\n",
    "    - train\n",
    "        - train-images-idx3-ubyte\n",
    "        - train-labels-idx1-ubyte\n",
    "    - test\n",
    "        - t10k-images-idx3-ubyte\n",
    "        - t10k-labels-idx1-ubyte\n"
   ]
  },
  {
   "cell_type": "code",
   "execution_count": 56,
   "metadata": {},
   "outputs": [
    {
     "name": "stdout",
     "output_type": "stream",
     "text": [
      "Downloading data from https://ascend-professional-construction-dataset.obs.cn-north-4.myhuaweicloud.com/deep-learning/fashion-mnist.zip (29.4 MB)\n",
      "\n",
      "file_sizes: 100%|██████████████████████████| 30.9M/30.9M [00:00<00:00, 43.2MB/s]\n",
      "Extracting zip file...\n",
      "Successfully downloaded / unzipped to ./\n"
     ]
    }
   ],
   "source": [
    "# 下载fashion-mnist数据集\n",
    "from download import download\n",
    "\n",
    "dataset_url = \"https://ascend-professional-construction-dataset.obs.cn-north-4.myhuaweicloud.com/deep-learning/fashion-mnist.zip\"\n",
    "path = \"./\"\n",
    "path = download(dataset_url, path, kind=\"zip\", replace=True)"
   ]
  },
  {
   "cell_type": "code",
   "execution_count": 57,
   "metadata": {},
   "outputs": [],
   "source": [
    "import os\n",
    "import struct\n",
    "import sys\n",
    "from easydict import EasyDict as edict\n",
    "\n",
    "import matplotlib.pyplot as plt\n",
    "import numpy as np\n",
    "\n",
    "import mindspore\n",
    "import mindspore.dataset as ds\n",
    "import mindspore.nn as nn\n",
    "import mindspore.ops as ops\n",
    "from mindspore import context\n",
    "from mindspore.nn.metrics import Accuracy\n",
    "from mindspore.train import Model\n",
    "from mindspore.train.callback import ModelCheckpoint, CheckpointConfig, LossMonitor, TimeMonitor\n",
    "from mindspore import Tensor\n",
    "\n",
    "# context.set_context(mode=context.GRAPH_MODE, device_target='Ascend')\n",
    "context.set_context(mode=context.GRAPH_MODE, device_target='GPU')"
   ]
  },
  {
   "cell_type": "code",
   "execution_count": 58,
   "metadata": {},
   "outputs": [],
   "source": [
    "cfg = edict({\n",
    "    'train_size': 60000,  # 训练集大小\n",
    "    'test_size': 10000,  # 测试集大小\n",
    "    'channel': 1,  # 图片通道数\n",
    "    'image_height': 28,  # 图片高度\n",
    "    'image_width': 28,  # 图片宽度\n",
    "    'batch_size': 64,\n",
    "    'num_classes': 10,  # 分类类别\n",
    "    'lr': 0.001,  # 学习率\n",
    "    'epoch_size': 20,  # 训练次数\n",
    "    'data_dir_train': os.path.join('fashion-mnist', 'train'),\n",
    "    'data_dir_test': os.path.join('fashion-mnist', 'test'),\n",
    "})"
   ]
  },
  {
   "cell_type": "code",
   "execution_count": 59,
   "metadata": {},
   "outputs": [],
   "source": [
    "def read_image(file_name):\n",
    "    '''\n",
    "    :param file_name: 文件路径\n",
    "    :return:  训练或者测试数据\n",
    "    如下是训练的图片的二进制格式\n",
    "    [offset] [type]          [value]          [description]\n",
    "    0000     32 bit integer  0x00000803(2051) magic number\n",
    "    0004     32 bit integer  60000            number of images\n",
    "    0008     32 bit integer  28               number of rows\n",
    "    0012     32 bit integer  28               number of columns\n",
    "    0016     unsigned byte   ??               pixel\n",
    "    0017     unsigned byte   ??               pixel\n",
    "    ........\n",
    "    xxxx     unsigned byte   ??               pixel\n",
    "    '''\n",
    "    file_handle = open(file_name, \"rb\")  # 以二进制打开文档\n",
    "    file_content = file_handle.read()  # 读取到缓冲区中\n",
    "    head = struct.unpack_from('>IIII', file_content, 0)  # 取前4个整数，返回一个元组\n",
    "    offset = struct.calcsize('>IIII')\n",
    "    imgNum = head[1]  # 图片数\n",
    "    width = head[2]  # 宽度\n",
    "    height = head[3]  # 高度\n",
    "    bits = imgNum * width * height  # data一共有60000*28*28个像素值\n",
    "    bitsString = '>' + str(bits) + 'B'  # fmt格式：'>47040000B'\n",
    "    imgs = struct.unpack_from(bitsString, file_content, offset)  # 取data数据，返回一个元组\n",
    "    imgs_array = np.array(imgs, np.float32).reshape((imgNum, width * height))  # 最后将读取的数据reshape成 【图片数，图片像素】二维数组\n",
    "    return imgs_array\n",
    "\n",
    "\n",
    "def read_label(file_name):\n",
    "    '''\n",
    "    :param file_name:\n",
    "    :return:\n",
    "    标签的格式如下：\n",
    "    [offset] [type]          [value]          [description]\n",
    "    0000     32 bit integer  0x00000801(2049) magic number (MSB first)\n",
    "    0004     32 bit integer  60000            number of items\n",
    "    0008     unsigned byte   ??               label\n",
    "    0009     unsigned byte   ??               label\n",
    "    ........\n",
    "    xxxx     unsigned byte   ??               label\n",
    "    The labels values are 0 to 9.\n",
    "    '''\n",
    "    file_handle = open(file_name, \"rb\")  # 以二进制打开文档\n",
    "    file_content = file_handle.read()  # 读取到缓冲区中\n",
    "    head = struct.unpack_from('>II', file_content, 0)  # 取前2个整数，返回一个元组\n",
    "    offset = struct.calcsize('>II')\n",
    "    labelNum = head[1]  # label数\n",
    "    bitsString = '>' + str(labelNum) + 'B'  # fmt格式：'>47040000B'\n",
    "    label = struct.unpack_from(bitsString, file_content, offset)  # 取data数据，返回一个元组\n",
    "    return np.array(label, np.int32)\n",
    "\n",
    "\n",
    "def get_data():\n",
    "    # 文件获取\n",
    "    train_image = os.path.join(cfg.data_dir_train, 'train-images-idx3-ubyte')\n",
    "    test_image = os.path.join(cfg.data_dir_test, \"t10k-images-idx3-ubyte\")\n",
    "    train_label = os.path.join(cfg.data_dir_train, \"train-labels-idx1-ubyte\")\n",
    "    test_label = os.path.join(cfg.data_dir_test, \"t10k-labels-idx1-ubyte\")\n",
    "    # 读取数据\n",
    "    train_x = read_image(train_image)\n",
    "    test_x = read_image(test_image)\n",
    "    train_y = read_label(train_label)\n",
    "    test_y = read_label(test_label)\n",
    "    return train_x, train_y, test_x, test_y"
   ]
  },
  {
   "cell_type": "code",
   "execution_count": 60,
   "metadata": {},
   "outputs": [
    {
     "name": "stdout",
     "output_type": "stream",
     "text": [
      "训练数据集样本数： 60000\n",
      "测试数据集样本数： 10000\n",
      "通道数/图像长/宽： (1, 28, 28)\n",
      "一张图像的标签样式： 9\n"
     ]
    },
    {
     "data": {
      "image/png": "[encoded data removed]",
      "text/plain": [
       "<Figure size 640x480 with 2 Axes>"
      ]
     },
     "metadata": {},
     "output_type": "display_data"
    }
   ],
   "source": [
    "train_x, train_y, test_x, test_y = get_data()\n",
    "train_x = train_x.reshape(-1, 1, cfg.image_height, cfg.image_width)\n",
    "test_x = test_x.reshape(-1, 1, cfg.image_height, cfg.image_width)\n",
    "train_x = train_x / 255.0\n",
    "test_x = test_x / 255.0\n",
    "\n",
    "print('训练数据集样本数：', train_x.shape[0])\n",
    "print('测试数据集样本数：', test_y.shape[0])\n",
    "print('通道数/图像长/宽：', train_x.shape[1:])\n",
    "print('一张图像的标签样式：', train_y[0])  # 一共10类，用0-9的数字表达类别。\n",
    "\n",
    "plt.figure()\n",
    "plt.imshow(train_x[0,0,...])\n",
    "plt.colorbar()\n",
    "plt.grid(False)\n",
    "plt.show()"
   ]
  },
  {
   "cell_type": "code",
   "execution_count": 61,
   "metadata": {},
   "outputs": [],
   "source": [
    "# 转换数据类型为Dataset\n",
    "def create_dataset():\n",
    "    XY_train = list(zip(train_x, train_y))\n",
    "    ds_train = ds.GeneratorDataset(XY_train, ['x', 'y'])\n",
    "    ds_train = ds_train.shuffle(buffer_size=1000).batch(cfg.batch_size, drop_remainder=True)\n",
    "    XY_test = list(zip(test_x, test_y))\n",
    "    ds_test = ds.GeneratorDataset(XY_test, ['x', 'y'])\n",
    "    ds_test = ds_test.shuffle(buffer_size=1000).batch(cfg.batch_size, drop_remainder=True)\n",
    "    return ds_train, ds_test"
   ]
  },
  {
   "cell_type": "markdown",
   "metadata": {},
   "source": [
    "## 五、模型构建\n",
    "\n",
    "该实验中，可以选择使用不含正则化的卷积神经网络或者选择加入正则化的卷积神经网络，用于对比结果。\n",
    "下面这部分用于创建不加入正则化的卷积神经网络，网络结构为：卷积层1卷积层2卷积层3最大池化层全连接层1全连接层2。"
   ]
  },
  {
   "cell_type": "code",
   "execution_count": 62,
   "metadata": {},
   "outputs": [],
   "source": [
    "# 定义卷积神经网络，无正则化\n",
    "class ForwardFashion(nn.Cell):\n",
    "    def __init__(self, num_class=10):  # 一共分十类，图片通道数是1\n",
    "        super(ForwardFashion, self).__init__()\n",
    "        self.num_class = num_class\n",
    "        self.conv1 = nn.Conv2d(1, 32,kernel_size=3, stride=1, padding=0, has_bias=False, pad_mode=\"valid\")\n",
    "        self.conv2 = nn.Conv2d(32, 64,kernel_size=3, stride=1, padding=0, has_bias=False, pad_mode=\"valid\")\n",
    "        self.conv3 = nn.Conv2d(64, 128,kernel_size=3, stride=1, padding=0, has_bias=False, pad_mode=\"valid\")\n",
    "        self.maxpool2d = nn.MaxPool2d(kernel_size=2, stride=2)\n",
    "        self.fc1 = nn.Dense(128 * 11 * 11, 128)\n",
    "        self.fc2 = nn.Dense(128, self.num_class)\n",
    "\n",
    "    def construct(self, x):\n",
    "        x = self.conv1(x)\n",
    "        x = ops.relu(x)\n",
    "        x = self.conv2(x)\n",
    "        x = ops.relu(x)\n",
    "        x = self.conv3(x)\n",
    "        x = ops.relu(x)\n",
    "        x = self.maxpool2d(x)\n",
    "        x = ops.flatten(x)\n",
    "        x = self.fc1(x)\n",
    "        x = ops.relu(x)\n",
    "        x = self.fc2(x)\n",
    "        return x"
   ]
  },
  {
   "cell_type": "markdown",
   "metadata": {},
   "source": [
    "下面这部分用于创建加入正则化的卷积神经网络，网络结构为卷积层1dropout层1卷积层2dropout层1卷积层3dropout层1最大池化层 dropout层2全连接层1 dropout层2全连接层2："
   ]
  },
  {
   "cell_type": "code",
   "execution_count": 63,
   "metadata": {},
   "outputs": [],
   "source": [
    "# 定义卷积神经网络，有正则化\n",
    "class ForwardFashionRegularization(nn.Cell):\n",
    "    def __init__(self, num_class=10):  # 一共分十类，图片通道数是1\n",
    "        super(ForwardFashionRegularization, self).__init__()\n",
    "        self.num_class = num_class\n",
    "        self.conv1 = nn.Conv2d(1, 32,kernel_size=3, stride=1, padding=0, has_bias=False, pad_mode=\"valid\")\n",
    "        self.conv2 = nn.Conv2d(32, 64,kernel_size=3, stride=1, padding=0, has_bias=False, pad_mode=\"valid\")\n",
    "        self.conv3 = nn.Conv2d(64, 128,kernel_size=3, stride=1, padding=0, has_bias=False, pad_mode=\"valid\")\n",
    "        self.maxpool2d = nn.MaxPool2d(kernel_size=2, stride=2)\n",
    "        self.fc1 = nn.Dense(3200, 128)\n",
    "        self.bn = nn.BatchNorm1d(128)\n",
    "        self.fc2 = nn.Dense(128, self.num_class)\n",
    "\n",
    "    def construct(self, x):\n",
    "        x = self.conv1(x)\n",
    "        x = ops.relu(x)\n",
    "        x = self.conv2(x)\n",
    "        x = ops.relu(x)\n",
    "        x = self.maxpool2d(x)\n",
    "        x = ops.dropout(x, p=0.5)\n",
    "        x = self.conv3(x)\n",
    "        x = ops.relu(x)\n",
    "        x = self.maxpool2d(x)\n",
    "        x = ops.dropout(x, p=0.5)\n",
    "        x = ops.flatten(x)\n",
    "        x = self.fc1(x)\n",
    "        x = ops.relu(x)\n",
    "        x = self.bn(x)\n",
    "        x = ops.dropout(x, p=0.5)\n",
    "        x = self.fc2(x)\n",
    "        return x"
   ]
  },
  {
   "cell_type": "markdown",
   "metadata": {},
   "source": [
    "## 六、模型训练\n",
    "\n",
    "为这个模型指定优化器（adam）、损失函数（crossentropy）和度量(accuracy)，然后启动训练，最后进行验证。"
   ]
  },
  {
   "cell_type": "code",
   "execution_count": 64,
   "metadata": {},
   "outputs": [],
   "source": [
    "def train(Net):\n",
    "    ds_train, ds_test = create_dataset()\n",
    "    # 构建网络\n",
    "    network = Net(cfg.num_classes)\n",
    "    # 定义模型的损失函数，优化器\n",
    "    net_loss = nn.SoftmaxCrossEntropyWithLogits(sparse=True, reduction=\"mean\")\n",
    "    net_opt = nn.Adam(network.trainable_params(), cfg.lr)\n",
    "    # 训练模型\n",
    "    model = Model(network, loss_fn=net_loss, optimizer=net_opt, metrics={'acc': Accuracy()})\n",
    "    loss_cb = LossMonitor()\n",
    "    print(\"============== Starting Training ==============\")\n",
    "    model.train(30, ds_train, callbacks=[loss_cb], dataset_sink_mode=True)\n",
    "    # 验证\n",
    "    metric = model.eval(ds_test)\n",
    "    print(metric)\n",
    "    \n",
    "    return model"
   ]
  },
  {
   "cell_type": "code",
   "execution_count": 65,
   "metadata": {},
   "outputs": [
    {
     "name": "stdout",
     "output_type": "stream",
     "text": [
      "============== Starting Training ==============\n",
      "epoch: 1 step: 937, loss is 0.4309420585632324\n",
      "epoch: 2 step: 937, loss is 0.28682684898376465\n",
      "epoch: 3 step: 937, loss is 0.1592390239238739\n",
      "epoch: 4 step: 937, loss is 0.342265784740448\n",
      "epoch: 5 step: 937, loss is 0.279633492231369\n",
      "epoch: 6 step: 937, loss is 0.11567063629627228\n",
      "epoch: 7 step: 937, loss is 0.0794147476553917\n",
      "epoch: 8 step: 937, loss is 0.06936568766832352\n",
      "epoch: 9 step: 937, loss is 0.025324471294879913\n",
      "epoch: 10 step: 937, loss is 0.05986649543046951\n",
      "epoch: 11 step: 937, loss is 0.009884053841233253\n",
      "epoch: 12 step: 937, loss is 0.08511004596948624\n",
      "epoch: 13 step: 937, loss is 0.02507101185619831\n",
      "epoch: 14 step: 937, loss is 0.006803958211094141\n",
      "epoch: 15 step: 937, loss is 0.02478655055165291\n",
      "epoch: 16 step: 937, loss is 0.22395557165145874\n",
      "epoch: 17 step: 937, loss is 0.15118847787380219\n",
      "epoch: 18 step: 937, loss is 0.0777982696890831\n",
      "epoch: 19 step: 937, loss is 0.04976671189069748\n",
      "epoch: 20 step: 937, loss is 0.011324090883135796\n",
      "epoch: 21 step: 937, loss is 0.00882074236869812\n",
      "epoch: 22 step: 937, loss is 0.009565443731844425\n",
      "epoch: 23 step: 937, loss is 0.007106148172169924\n",
      "epoch: 24 step: 937, loss is 0.0006855824030935764\n",
      "epoch: 25 step: 937, loss is 0.060552388429641724\n",
      "epoch: 26 step: 937, loss is 0.0007493424345739186\n",
      "epoch: 27 step: 937, loss is 0.006091624964028597\n",
      "epoch: 28 step: 937, loss is 0.005846555344760418\n",
      "epoch: 29 step: 937, loss is 0.009221398271620274\n",
      "epoch: 30 step: 937, loss is 0.11252149194478989\n",
      "{'acc': 0.9108573717948718}\n"
     ]
    }
   ],
   "source": [
    "# 训练无正则化的网络\n",
    "model = train(ForwardFashion)"
   ]
  },
  {
   "cell_type": "code",
   "execution_count": 66,
   "metadata": {},
   "outputs": [
    {
     "name": "stdout",
     "output_type": "stream",
     "text": [
      "============== Starting Training ==============\n",
      "epoch: 1 step: 937, loss is 0.6705112457275391\n",
      "epoch: 2 step: 937, loss is 0.29744866490364075\n",
      "epoch: 3 step: 937, loss is 0.2999320328235626\n",
      "epoch: 4 step: 937, loss is 0.4017154276371002\n",
      "epoch: 5 step: 937, loss is 0.3760083317756653\n",
      "epoch: 6 step: 937, loss is 0.17504505813121796\n",
      "epoch: 7 step: 937, loss is 0.22998952865600586\n",
      "epoch: 8 step: 937, loss is 0.3527829349040985\n",
      "epoch: 9 step: 937, loss is 0.40792036056518555\n",
      "epoch: 10 step: 937, loss is 0.3625226616859436\n",
      "epoch: 11 step: 937, loss is 0.2909747064113617\n",
      "epoch: 12 step: 937, loss is 0.37289246916770935\n",
      "epoch: 13 step: 937, loss is 0.2561287581920624\n",
      "epoch: 14 step: 937, loss is 0.09648163616657257\n",
      "epoch: 15 step: 937, loss is 0.2992987334728241\n",
      "epoch: 16 step: 937, loss is 0.1584387570619583\n",
      "epoch: 17 step: 937, loss is 0.1661819964647293\n",
      "epoch: 18 step: 937, loss is 0.37405306100845337\n",
      "epoch: 19 step: 937, loss is 0.13107478618621826\n",
      "epoch: 20 step: 937, loss is 0.23217548429965973\n",
      "epoch: 21 step: 937, loss is 0.2733745276927948\n",
      "epoch: 22 step: 937, loss is 0.1611473709344864\n",
      "epoch: 23 step: 937, loss is 0.1969461739063263\n",
      "epoch: 24 step: 937, loss is 0.31084907054901123\n",
      "epoch: 25 step: 937, loss is 0.2443353533744812\n",
      "epoch: 26 step: 937, loss is 0.22545281052589417\n",
      "epoch: 27 step: 937, loss is 0.29675009846687317\n",
      "epoch: 28 step: 937, loss is 0.1691015064716339\n",
      "epoch: 29 step: 937, loss is 0.2301994413137436\n",
      "epoch: 30 step: 937, loss is 0.18723060190677643\n",
      "{'acc': 0.9039463141025641}\n"
     ]
    }
   ],
   "source": [
    "# 训练有正则化的网络\n",
    "model = train(ForwardFashionRegularization)"
   ]
  },
  {
   "cell_type": "markdown",
   "metadata": {},
   "source": [
    "## 七、模型预测\n",
    "\n",
    "使用上述训练好的模型对测试数据集进行预测。打印预测结果"
   ]
  },
  {
   "cell_type": "code",
   "execution_count": 67,
   "metadata": {},
   "outputs": [
    {
     "name": "stdout",
     "output_type": "stream",
     "text": [
      "第0个sample预测结果： 7    真实结果： 7\n",
      "第1个sample预测结果： 2    真实结果： 0\n",
      "第2个sample预测结果： 0    真实结果： 0\n",
      "第3个sample预测结果： 5    真实结果： 5\n",
      "第4个sample预测结果： 2    真实结果： 2\n",
      "第5个sample预测结果： 0    真实结果： 0\n",
      "第6个sample预测结果： 5    真实结果： 5\n",
      "第7个sample预测结果： 4    真实结果： 4\n",
      "第8个sample预测结果： 7    真实结果： 7\n",
      "第9个sample预测结果： 8    真实结果： 8\n",
      "第10个sample预测结果： 8    真实结果： 8\n",
      "第11个sample预测结果： 0    真实结果： 0\n",
      "第12个sample预测结果： 7    真实结果： 7\n",
      "第13个sample预测结果： 7    真实结果： 7\n",
      "第14个sample预测结果： 2    真实结果： 2\n"
     ]
    }
   ],
   "source": [
    "# 预测\n",
    "ds_test, _ = create_dataset()\n",
    "test_ = ds_test.create_dict_iterator(output_numpy=True).__next__()\n",
    "predictions = model.predict(Tensor(test_['x']))\n",
    "predictions = predictions.asnumpy()\n",
    "for i in range(15):\n",
    "    p_np = predictions[i, :]\n",
    "    p_list = p_np.tolist()\n",
    "    print('第' + str(i) + '个sample预测结果：', p_list.index(max(p_list)), '   真实结果：', test_['y'][i])"
   ]
  },
  {
   "cell_type": "code",
   "execution_count": 68,
   "metadata": {},
   "outputs": [],
   "source": [
    "# -------------------定义可视化函数--------------------------------\n",
    "# 输入预测结果序列，真实标签序列，以及图片序列\n",
    "# 目标是根据预测值对错，让其标签显示为红色或者蓝色。对：标签为红色；错：标签为蓝色\n",
    "def plot_image(predictions_array, true_label, img):\n",
    "    plt.grid(False)\n",
    "    plt.xticks([])\n",
    "    plt.yticks([])\n",
    "    # 显示对应图片\n",
    "    plt.imshow(img, cmap=plt.cm.binary)\n",
    "    # 显示预测结果的颜色，如果对上了是蓝色，否则为红色\n",
    "    predicted_label = np.argmax(predictions_array)\n",
    "    if predicted_label == true_label:\n",
    "        color = 'blue'\n",
    "    else:\n",
    "        color = 'red'\n",
    "    # 显示对应标签的格式，样式\n",
    "    plt.xlabel('{},{:2.0f}% ({})'.format(class_names[predicted_label],\n",
    "                                         100 * np.max(predictions_array),\n",
    "                                         class_names[true_label]), color=color)\n"
   ]
  },
  {
   "cell_type": "code",
   "execution_count": 69,
   "metadata": {},
   "outputs": [],
   "source": [
    "# 将预测的结果以柱状图形状显示蓝对红错\n",
    "def plot_value_array(predictions_array, true_label):\n",
    "    plt.grid(False)\n",
    "    plt.xticks([])\n",
    "    plt.yticks([])\n",
    "    this_plot = plt.bar(range(10), predictions_array, color='#777777')\n",
    "    plt.ylim([0, 1])\n",
    "    predicted_label = np.argmax(predictions_array)\n",
    "    this_plot[predicted_label].set_color('red')\n",
    "    this_plot[true_label].set_color('blue')"
   ]
  },
  {
   "cell_type": "code",
   "execution_count": 70,
   "metadata": {},
   "outputs": [],
   "source": [
    "import numpy as np\n",
    "def softmax_np(x):\n",
    "    x = x - np.max(x)\n",
    "    exp_x = np.exp(x)\n",
    "    softmax_x = exp_x/np.sum(exp_x)\n",
    "    return softmax_x"
   ]
  },
  {
   "cell_type": "markdown",
   "metadata": {},
   "source": [
    "预测结果可视化，输入预测结果序列，真实标签序列，以及图片序列。目标是根据预测值对错，让其标签显示为红色或者蓝色。对：标签为蓝色；错：标签为红色。最后预测15个图像与标签，将预测的结果以柱状图形状显示蓝对红错。"
   ]
  },
  {
   "cell_type": "code",
   "execution_count": 71,
   "metadata": {},
   "outputs": [
    {
     "data": {
      "image/png": "[encoded data removed]",
      "text/plain": [
       "<Figure size 1200x1000 with 30 Axes>"
      ]
     },
     "metadata": {},
     "output_type": "display_data"
    }
   ],
   "source": [
    "# 预测15个图像与标签，并展现出来\n",
    "num_rows = 5\n",
    "num_cols = 3\n",
    "num_images = num_rows * num_cols\n",
    "plt.figure(figsize=(2 * 2 * num_cols, 2 * num_rows))\n",
    "class_names = ['T-shirt/top', 'Trouser', 'Pullover', 'Dress', 'Coat',\n",
    "               'Sandal', 'Shirt', 'Sneaker', 'Bag', 'Ankle boot']\n",
    "for i in range(num_images):\n",
    "    plt.subplot(num_rows, 2 * num_cols, 2 * i + 1)\n",
    "    pred_np_ = predictions[i, :]\n",
    "    pred_np_ = softmax_np(pred_np_)\n",
    "    plot_image(pred_np_, test_['y'][i], test_['x'][i, 0, ...])\n",
    "    plt.subplot(num_rows, 2 * num_cols, 2 * i + 2)\n",
    "    plot_value_array(pred_np_, test_['y'][i])\n",
    "plt.show()"
   ]
  }
 ],
 "metadata": {
  "kernelspec": {
   "display_name": "Python 3.7.16 ('ayingk')",
   "language": "python",
   "name": "python3"
  },
  "language_info": {
   "codemirror_mode": {
    "name": "ipython",
    "version": 3
   },
   "file_extension": ".py",
   "mimetype": "text/x-python",
   "name": "python",
   "nbconvert_exporter": "python",
   "pygments_lexer": "ipython3",
   "version": "3.7.16"
  },
  "vscode": {
   "interpreter": {
    "hash": "2d073512bb319e92efd2f1495e0e7bd7f63c343542cec2ffb7d66aecb35ecf0a"
   }
  }
 },
 "nbformat": 4,
 "nbformat_minor": 4
}
